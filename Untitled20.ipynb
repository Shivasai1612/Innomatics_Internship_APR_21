{
 "cells": [
  {
   "cell_type": "code",
   "execution_count": null,
   "metadata": {},
   "outputs": [],
   "source": [
    "# no idea\n",
    "m,n=tuple(map(int,input().split()))\n",
    "arr=list(map(int,input().split()))\n",
    "A=set(map(int,input().split()))\n",
    "B=set(map(int,input().split()))\n",
    "happy=len([x for x in arr if x in A])\n",
    "sad=len([i for i in arr if i in B])\n",
    "print(\"happy-sad\")"
   ]
  },
  {
   "cell_type": "code",
   "execution_count": null,
   "metadata": {},
   "outputs": [],
   "source": [
    "#list comprehensions\n",
    "x = int(input())\n",
    "y = int(input())\n",
    "z = int(input())\n",
    "n = int(input())\n",
    "li=[]\n",
    "for  i in range(x+1):\n",
    "    for j in range(y+1):\n",
    "        for k in range(z+1):\n",
    "            if(i+j+k!=n):\n",
    "                li.append([i,j,k])\n",
    "                \n",
    "print(li)\n",
    "            \n",
    "    \n"
   ]
  },
  {
   "cell_type": "code",
   "execution_count": null,
   "metadata": {},
   "outputs": [],
   "source": [
    "#finding the runner up score\n",
    "n = int(input())\n",
    "arr = list(map(int, input().split()))\n",
    "arr.sort()\n",
    "arr=list(set(arr))\n",
    "x=max(arr)\n",
    "arr.remove(x)\n",
    "print(max(arr))\n"
   ]
  },
  {
   "cell_type": "code",
   "execution_count": null,
   "metadata": {},
   "outputs": [],
   "source": [
    "#nested lists\n",
    "if __name__ == '__main__':\n",
    "    li=[]\n",
    "    count1=0\n",
    "    for i in range(int(input())):\n",
    "        name = input()\n",
    "        score = float(input())\n",
    "        if(count1==0):\n",
    "            min1=score\n",
    "            count1=1\n",
    "        if(score<=min1):\n",
    "            min1=score\n",
    "        sub_li=[]\n",
    "        sub_li.append(name)\n",
    "        sub_li.append(score)\n",
    "        li.append(sub_li)\n",
    "    count=0\n",
    "    for j in  range(len(li)):\n",
    "        if (li[j][1]>min1 and count==0):\n",
    "            a=[]\n",
    "            min2=li[j][1]\n",
    "            a.append(li[j])\n",
    "            count=1\n",
    "        elif(li[j][1]>min1 and li[j][1]<=min2):\n",
    "            if(li[j][1]==min2):\n",
    "                a.append(li[j])\n",
    "            else:\n",
    "                a=[]\n",
    "                min2=li[j][1]\n",
    "                a.append(li[j])\n",
    "\n",
    "\n",
    "    a.sort()\n",
    "    for j in a:\n",
    "        print(j[0])"
   ]
  },
  {
   "cell_type": "code",
   "execution_count": null,
   "metadata": {},
   "outputs": [],
   "source": [
    "#finding the percentage\n",
    "if __name__ == '__main__':\n",
    "    n = int(input())\n",
    "    student_marks = {}\n",
    "    sum=0\n",
    "    for _ in range(n):\n",
    "        line = input().split()\n",
    "        name, scores = line[0], line[1:]\n",
    "        scores = map(float, scores)\n",
    "        student_marks[name] = scores\n",
    "    query_name = input()\n",
    "    li=[]\n",
    "    li=student_marks[query_name]\n",
    "    for i in li:\n",
    "        sum=sum+i\n",
    "    average=sum/3\n",
    "    print('%.2f' % average)"
   ]
  },
  {
   "cell_type": "code",
   "execution_count": null,
   "metadata": {},
   "outputs": [],
   "source": [
    "#lists\n",
    "if __name__ == '__main__':\n",
    "    N = int(input())\n",
    "li=[]\n",
    "for j in range(N):\n",
    "    inp=[]\n",
    "    inp= list(map(str,input().split()))\n",
    "    if(inp[0]==\"insert\"):\n",
    "        li.insert(int(inp[1]),int(inp[2]))\n",
    "    elif(inp[0]==\"print\"):\n",
    "        print(li)\n",
    "    elif(inp[0]==\"remove\"):\n",
    "        li.remove(int(inp[1]))\n",
    "    elif(inp[0]==\"pop\"):\n",
    "        li.pop()\n",
    "    elif(inp[0]==\"reverse\"):\n",
    "        li.reverse()\n",
    "    elif(inp[0]==\"sort\"):\n",
    "        li.sort()\n",
    "    else:\n",
    "        li.append(int(inp[1]))"
   ]
  },
  {
   "cell_type": "code",
   "execution_count": null,
   "metadata": {},
   "outputs": [],
   "source": [
    "#tuples\n",
    "if __name__ == '__main__':\n",
    "    n = int(input())\n",
    "    integer_list = tuple(map(int, input().split()))\n",
    "print(hash(integer_list))"
   ]
  },
  {
   "cell_type": "code",
   "execution_count": null,
   "metadata": {},
   "outputs": [],
   "source": [
    "#sets\n",
    "def average(array):\n",
    "    v=set(array)\n",
    "    x=len(v)\n",
    "    y=sum(v)/x\n",
    "    return y\n"
   ]
  },
  {
   "cell_type": "code",
   "execution_count": null,
   "metadata": {},
   "outputs": [],
   "source": [
    "#set.add()\n",
    "n = int(input())\n",
    "stamp = set()\n",
    "for i in range(n):\n",
    "  stamp.add(input())\n",
    "print(len(stamp))"
   ]
  },
  {
   "cell_type": "code",
   "execution_count": 2,
   "metadata": {},
   "outputs": [
    {
     "name": "stdout",
     "output_type": "stream",
     "text": [
      "5 \n",
      "1 2  3 4 5\n",
      "3\n",
      "pop \n",
      "remove 2\n",
      "discard 1\n",
      "12\n"
     ]
    }
   ],
   "source": [
    "#set.discard\n",
    "n = input()\n",
    "s = set(map(int, input().split()))\n",
    "for i in range(int(input())):\n",
    "    c = input().split()\n",
    "    if c[0] == 'pop':\n",
    "        s.pop()\n",
    "    elif c == 'remove':\n",
    "        s.remove(int(c[1]))\n",
    "    else:\n",
    "        s.discard(int(c[1]))\n",
    "print(sum(s))\n"
   ]
  },
  {
   "cell_type": "markdown",
   "metadata": {},
   "source": [
    "# "
   ]
  },
  {
   "cell_type": "code",
   "execution_count": null,
   "metadata": {},
   "outputs": [],
   "source": [
    "#union\n",
    "eng = set()\n",
    "fre = set()\n",
    "n = input()\n",
    "for i in input().split(' '):\n",
    "  eng.add(i)\n",
    "m = input()\n",
    "for i in input().split(' '):\n",
    "  fre.add(i)\n",
    "sol = eng.union(fre)\n",
    "print(len(sol))"
   ]
  },
  {
   "cell_type": "code",
   "execution_count": null,
   "metadata": {},
   "outputs": [],
   "source": [
    "#intersection\n",
    "eng = set()\n",
    "fre = set()\n",
    "n = input()\n",
    "for i in input().split(' '):\n",
    "  eng.add(i)\n",
    "m = input()\n",
    "for i in input().split(' '):\n",
    "  fre.add(i)\n",
    "sol = eng.intersection(fre)\n",
    "print(len(sol))"
   ]
  },
  {
   "cell_type": "code",
   "execution_count": null,
   "metadata": {},
   "outputs": [],
   "source": [
    "#difference\n",
    "eng = set()\n",
    "fre = set()\n",
    "n = input()\n",
    "for i in input().split(' '):\n",
    "  eng.add(i)\n",
    "m = input()\n",
    "for i in input().split(' '):\n",
    "  fre.add(i)\n",
    "sol = eng.difference(fre)\n",
    "print len(sol)"
   ]
  },
  {
   "cell_type": "code",
   "execution_count": null,
   "metadata": {},
   "outputs": [],
   "source": [
    "#symmetric difference\n",
    "# Enter your code here. Read input from STDIN. Print output to STDOUT\n",
    "n=int(input())\n",
    "m=list(map(int,input().split()))\n",
    "x=int(input())\n",
    "y=list(map(int,input().split()))\n",
    "s1=set(m)\n",
    "s2=set(y)\n",
    "a=s1.difference(s2)\n",
    "b=s2.difference(s1)\n",
    "x=list(a.union(b))\n",
    "c=sorted(x)\n",
    "for ele in c:\n",
    "    print(ele)\n"
   ]
  },
  {
   "cell_type": "code",
   "execution_count": null,
   "metadata": {},
   "outputs": [],
   "source": [
    "#set mutations\n",
    "_ = input()\n",
    "a = set(int(x) for x in input().split(' '))\n",
    "\n",
    "n = int(input())\n",
    "for _ in range(n):\n",
    "    op, _ = input().split(' ')\n",
    "    b = set(int(x) for x in input().split(' '))\n",
    "    if op == \"update\":\n",
    "        a |= b\n",
    "    elif op == \"intersection_update\":\n",
    "        a &= b\n",
    "    elif op == \"difference_update\":\n",
    "        a -= b\n",
    "    elif op == \"symmetric_difference_update\":\n",
    "        a ^= b\n",
    "\n",
    "print(sum(a))\n",
    "        \n",
    "    "
   ]
  },
  {
   "cell_type": "code",
   "execution_count": null,
   "metadata": {},
   "outputs": [],
   "source": [
    "#captains room\n",
    "k = int(input())\n",
    "rooms = (int(x) for x in input().split(' '))\n",
    "seen = {}\n",
    "\n",
    "for i in rooms:\n",
    "    if not i in seen:\n",
    "        seen[i] = 1\n",
    "    else:\n",
    "        seen[i] += 1\n",
    "\n",
    "for key, val in seen.items():\n",
    "    if val != k:\n",
    "        print(key)"
   ]
  },
  {
   "cell_type": "code",
   "execution_count": null,
   "metadata": {},
   "outputs": [],
   "source": [
    "#check subset\n",
    "for i in range(int(input())): #More than 4 lines will result in 0 score. Do not leave a blank line also. \n",
    "    a = int(input()); A = set(input().split()) \n",
    "    b = int(input()); B = set(input().split())\n",
    "    print(A.issubset(B))"
   ]
  },
  {
   "cell_type": "code",
   "execution_count": null,
   "metadata": {},
   "outputs": [],
   "source": [
    "#check strict superset\n",
    "s = set(input().split())\n",
    "ans = True\n",
    "for i in range(int(input())):\n",
    "    t = set(input().split())\n",
    "    if (s > t) == False:\n",
    "        ans = False\n",
    "        break\n",
    "print(ans)        "
   ]
  },
  {
   "cell_type": "code",
   "execution_count": null,
   "metadata": {},
   "outputs": [],
   "source": []
  }
 ],
 "metadata": {
  "kernelspec": {
   "display_name": "Python 3",
   "language": "python",
   "name": "python3"
  },
  "language_info": {
   "codemirror_mode": {
    "name": "ipython",
    "version": 3
   },
   "file_extension": ".py",
   "mimetype": "text/x-python",
   "name": "python",
   "nbconvert_exporter": "python",
   "pygments_lexer": "ipython3",
   "version": "3.8.5"
  }
 },
 "nbformat": 4,
 "nbformat_minor": 4
}
