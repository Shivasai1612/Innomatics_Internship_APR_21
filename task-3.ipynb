{
 "cells": [
  {
   "cell_type": "code",
   "execution_count": 1,
   "metadata": {},
   "outputs": [
    {
     "name": "stdout",
     "output_type": "stream",
     "text": [
      "1+2j\n",
      "2.23606797749979\n",
      "1.1071487177940904\n"
     ]
    }
   ],
   "source": [
    "# polar coordinates\n",
    "from cmath import polar\n",
    "polar = polar(complex(input()))\n",
    "print(polar[0])\n",
    "print(polar[1])"
   ]
  },
  {
   "cell_type": "code",
   "execution_count": 9,
   "metadata": {},
   "outputs": [
    {
     "name": "stdout",
     "output_type": "stream",
     "text": [
      "10\n",
      "10\n",
      "45°\n"
     ]
    }
   ],
   "source": [
    "# angle mbc\n",
    "import math\n",
    "ab = float(input())\n",
    "bc = float(input())\n",
    "tang = ab / bc\n",
    "rad = math.atan(tang)\n",
    "print('{}°'.format(int(round(math.degrees(rad)))))"
   ]
  },
  {
   "cell_type": "code",
   "execution_count": 10,
   "metadata": {},
   "outputs": [
    {
     "name": "stdout",
     "output_type": "stream",
     "text": [
      "6\n",
      "1\n",
      "121\n",
      "12321\n",
      "1234321\n",
      "123454321\n",
      "12345654321\n"
     ]
    }
   ],
   "source": [
    "#trianglequest2\n",
    "suma=1\n",
    "for i in range(1,int(input())+1):print(suma**2);suma=suma*10+1;"
   ]
  },
  {
   "cell_type": "code",
   "execution_count": 14,
   "metadata": {},
   "outputs": [
    {
     "name": "stdout",
     "output_type": "stream",
     "text": [
      "10\n",
      "11\n",
      "0.9090909090909091\n",
      "10\n",
      "(0, 10)\n"
     ]
    }
   ],
   "source": [
    "#divmod\n",
    "a = int(input())\n",
    "b = int(input())\n",
    "print(a/b)\n",
    "print(a%b)\n",
    "print( divmod(a,b))"
   ]
  },
  {
   "cell_type": "code",
   "execution_count": 16,
   "metadata": {},
   "outputs": [
    {
     "name": "stdout",
     "output_type": "stream",
     "text": [
      "10\n",
      "20\n",
      "30\n",
      "100000000000000000000\n",
      "10\n"
     ]
    }
   ],
   "source": [
    "#powermod\n",
    "a = int(input())\n",
    "b = int(input())\n",
    "m = int(input())\n",
    "print(pow(a,b))\n",
    "print(pow(a,b,m))"
   ]
  },
  {
   "cell_type": "code",
   "execution_count": null,
   "metadata": {},
   "outputs": [],
   "source": [
    "#integers come in all sizes\n",
    "a = input()\n",
    "b = input()\n",
    "c = input()\n",
    "d = input()\n",
    "print(pow(a,b)+pow(c,d))"
   ]
  },
  {
   "cell_type": "markdown",
   "metadata": {},
   "source": [
    "#### "
   ]
  },
  {
   "cell_type": "code",
   "execution_count": null,
   "metadata": {},
   "outputs": [],
   "source": [
    "#trianglequest\n",
    "for i in range(1,int(input())): \n",
    "    print((10**i)//9*i)"
   ]
  },
  {
   "cell_type": "code",
   "execution_count": null,
   "metadata": {},
   "outputs": [],
   "source": []
  }
 ],
 "metadata": {
  "kernelspec": {
   "display_name": "Python 3",
   "language": "python",
   "name": "python3"
  },
  "language_info": {
   "codemirror_mode": {
    "name": "ipython",
    "version": 3
   },
   "file_extension": ".py",
   "mimetype": "text/x-python",
   "name": "python",
   "nbconvert_exporter": "python",
   "pygments_lexer": "ipython3",
   "version": "3.8.5"
  }
 },
 "nbformat": 4,
 "nbformat_minor": 4
}
