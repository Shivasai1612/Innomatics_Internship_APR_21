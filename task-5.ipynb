{
 "cells": [
  {
   "cell_type": "code",
   "execution_count": null,
   "metadata": {},
   "outputs": [],
   "source": [
    "#detecting floating point\n",
    "import re\n",
    "import sys\n",
    "rl = lambda: sys.stdin.readline()\n",
    "\n",
    "\n",
    "p = r'(\\+|-){0,1}[0-9]*[.][0-9]+$'\n",
    "n = int(rl())\n",
    "case = []\n",
    "for _ in range(n):\n",
    "    case.append(rl())\n",
    "\n",
    "for t in case:\n",
    "    print(bool(re.match(p, t)))"
   ]
  },
  {
   "cell_type": "raw",
   "metadata": {},
   "source": [
    "#re.split()\n",
    "# Enter your code here. Read input from STDIN. Print output to STDOUT\n",
    "\n",
    "import re\n",
    "a = re.split(\"[,.]\",raw_input())\n",
    "\n",
    "for k in a:\n",
    "    if k.isdigit(): print k"
   ]
  },
  {
   "cell_type": "code",
   "execution_count": null,
   "metadata": {},
   "outputs": [],
   "source": [
    "#groups()\n",
    "# start here\n",
    "import re\n",
    "\n",
    "m = re.search(r'([a-zA-Z0-9])((.*\\1\\1)|(\\1))', input().strip())\n",
    "if m != None:\n",
    "    print(m.group(1))\n",
    "else:\n",
    "    print('-1')"
   ]
  },
  {
   "cell_type": "code",
   "execution_count": null,
   "metadata": {},
   "outputs": [],
   "source": [
    "#regex substitution\n",
    "import re\n",
    "\n",
    "lines = int(raw_input())\n",
    "for _ in range(lines):\n",
    "    line = raw_input()\n",
    "    line = re.sub(\" && \",\" and \",line)\n",
    "    line = re.sub(\" && \",\" and \",line)\n",
    "    line = re.sub(\" && \",\" and \",line)\n",
    "    line = re.sub(\" && \",\" and \",line)\n",
    "    line = re.sub(\" \\|\\| \",\" or \",line)\n",
    "    line = re.sub(\" \\|\\| \",\" or \",line)\n",
    "    line = re.sub(\" \\|\\| \",\" or \",line)\n",
    "    line = re.sub(\" \\|\\| \",\" or \",line)\n",
    "    print line"
   ]
  },
  {
   "cell_type": "code",
   "execution_count": null,
   "metadata": {},
   "outputs": [],
   "source": [
    "#recognizing roman\n",
    "import re\n",
    "print(bool(re.match(\n",
    "      r'^(M{0,3})(C{0,3}|CD|DC{0,3}|CM)(X{0,3}|XL|LX{0,3}|XC)(I{0,3}|IV|VI{0,3}|IX)$', input())))"
   ]
  },
  {
   "cell_type": "code",
   "execution_count": null,
   "metadata": {},
   "outputs": [],
   "source": [
    "#validating email\n",
    "import re\n",
    "\n",
    "N = int(input())\n",
    "for _ in range(N):\n",
    "    tOrg = input().strip()\n",
    "\n",
    "    e = re.search(r'<(.*)>', tOrg)\n",
    "    if e == None:\n",
    "        continue\n",
    "    t = e.group(1).strip()\n",
    "\n",
    "    if re.search(r'^[a-zA-Z][a-zA-Z0-9\\-._]*@[a-zA-Z]+\\.[a-zA-Z]{1,3}$', t) != None:\n",
    "        print(tOrg)\n"
   ]
  },
  {
   "cell_type": "code",
   "execution_count": null,
   "metadata": {},
   "outputs": [],
   "source": [
    "#hexcode\n",
    "import re\n",
    "reg1=\"{[^}]*}\"\n",
    "reg2=\"\"\"(#(?:[0-9A-Fa-f]){3}|#(?:[0-9A-Fa-f]){6})[^0-9a-fA-F]\"\"\"\n",
    "n=input()\n",
    "s=\"\"\n",
    "for i in range(n): s+=raw_input()\n",
    "x=re.findall(reg1,s)\n",
    "for l in x:\n",
    "    y=re.findall(reg2,l)\n",
    "    #print l\n",
    "    for z in y: print z"
   ]
  },
  {
   "cell_type": "code",
   "execution_count": null,
   "metadata": {},
   "outputs": [],
   "source": [
    "#htmlparser 1\n",
    "from HTMLParser import HTMLParser\n",
    "\n",
    "# create a subclass and override the handler methods\n",
    "class MyHTMLParser(HTMLParser):\n",
    "    def handle_starttag(self, tag, attrs):\n",
    "        print \"Start :\", tag\n",
    "        for attr in attrs:\n",
    "            print \"->\", attr[0], \">\", attr[1]\n",
    "    def handle_endtag(self, tag):\n",
    "        print \"End   :\", tag\n",
    "    def handle_startendtag(self, tag, attrs):\n",
    "        print \"Empty :\", tag\n",
    "        for attr in attrs:\n",
    "            print \"->\", attr[0], \">\", attr[1]\n",
    "\n",
    "N = int(input())\n",
    "parser = MyHTMLParser()\n",
    "\n",
    "for i in xrange(N):\n",
    "    parser.feed(raw_input())"
   ]
  },
  {
   "cell_type": "code",
   "execution_count": null,
   "metadata": {},
   "outputs": [],
   "source": [
    "#htmlparser2\n",
    "#!/usr/bin/python\n",
    "from __future__ import print_function\n",
    "import sys\n",
    "if sys.version_info[0]>=3:\n",
    "\traw_input=input\n",
    "\tfrom html.parser import HTMLParser\n",
    "else:\n",
    "\tfrom HTMLParser import HTMLParser\n",
    "\n",
    "class MyHTMLParser(HTMLParser):\n",
    "\tdef handle_starttag(self, tag, attrs):\n",
    "\t\t#print(\"Start : \"+tag)\n",
    "\t\t#for e in attrs: print(\"-> \"+e[0]+\" > \"+str(e[1]))\n",
    "\t\tpass\n",
    "\tdef handle_endtag(self, tag):\n",
    "\t\t#print(\"End   : \"+tag)\n",
    "\t\tpass\n",
    "\tdef handle_startendtag(self, tag, attrs):\n",
    "\t\t#print(\"Empty : \"+tag)\n",
    "\t\t#for e in attrs: print(\"-> \"+e[0]+\" > \"+str(e[1]))\n",
    "\t\tpass\n",
    "\tdef handle_comment(self, data):\n",
    "\t\tprint(\">>> Multi-line Comment\" if \"\\r\" in data else \">>> Single-line Comment\")\n",
    "\t\tprint(data.replace(\"\\r\",\"\\n\"))\n",
    "\tdef handle_data(self, data):\n",
    "\t\tif data.strip():\n",
    "\t\t\tprint(\">>> Data\")\n",
    "\t\t\tprint(data)\n",
    "\n",
    "parser = MyHTMLParser()\n",
    "html=''\n",
    "for _ in range(int(raw_input())):\n",
    "\thtml+=raw_input()\n",
    "parser.feed(html)\n",
    "parser.close()"
   ]
  },
  {
   "cell_type": "code",
   "execution_count": null,
   "metadata": {},
   "outputs": [],
   "source": [
    "#validating uid\n",
    "# start here\n",
    "import re\n",
    "\n",
    "N = int(input())\n",
    "for _ in range(N):\n",
    "    t = input().strip()\n",
    "\n",
    "    if re.search(r'[A-Z].*[A-Z]', t) != None and re.search(r'[0-9].*[0-9].*[0-9]', t) != None and re.search(r'^[a-zA-Z0-9]*$', t) != None and re.search(r'(.).*\\1', t) == None and len(t) == 10:\n",
    "        print('Valid')\n",
    "    else:\n",
    "        print('Invalid')"
   ]
  },
  {
   "cell_type": "code",
   "execution_count": null,
   "metadata": {},
   "outputs": [],
   "source": [
    "#validating postal codes\n",
    "import sys\n",
    "\n",
    "stdin = sys.stdin\n",
    "\n",
    "import re\n",
    "line = stdin.readline().strip()\n",
    "print(re.match(\"^[1-9][0-9]{5}$\", line) != None and [ord(line[i]) - ord(line[i+2]) for i in range(4)].count(0) <= 1)"
   ]
  },
  {
   "cell_type": "code",
   "execution_count": null,
   "metadata": {},
   "outputs": [],
   "source": []
  }
 ],
 "metadata": {
  "kernelspec": {
   "display_name": "Python 3",
   "language": "python",
   "name": "python3"
  },
  "language_info": {
   "codemirror_mode": {
    "name": "ipython",
    "version": 3
   },
   "file_extension": ".py",
   "mimetype": "text/x-python",
   "name": "python",
   "nbconvert_exporter": "python",
   "pygments_lexer": "ipython3",
   "version": "3.8.5"
  }
 },
 "nbformat": 4,
 "nbformat_minor": 4
}
